{
  "cells": [
    {
      "cell_type": "markdown",
      "metadata": {
        "id": "7tDu0M8MZAhp"
      },
      "source": [
        "### Importing the Libraries"
      ]
    },
    {
      "cell_type": "code",
      "execution_count": null,
      "metadata": {
        "id": "0fN7Tl8vZAht"
      },
      "outputs": [],
      "source": [
        "import tensorflow as tf\n",
        "from keras.preprocessing.image import ImageDataGenerator\n",
        "import os\n",
        "os.environ[\"CUDA_VISIBLE_DEVICES\"] = \"1\""
      ]
    },
    {
      "cell_type": "code",
      "execution_count": null,
      "metadata": {
        "id": "nT4Iej80ZAhv",
        "outputId": "929d8b85-09c9-484c-d4c7-4dfb42a5230b"
      },
      "outputs": [
        {
          "data": {
            "text/plain": [
              "'2.3.1'"
            ]
          },
          "execution_count": 4,
          "metadata": {},
          "output_type": "execute_result"
        }
      ],
      "source": [
        "tf.__version__"
      ]
    },
    {
      "cell_type": "markdown",
      "metadata": {
        "id": "JkYZNdRCZAhv"
      },
      "source": [
        "### Part 1 - Data Preprocessing"
      ]
    },
    {
      "cell_type": "markdown",
      "metadata": {
        "id": "EfevasEMZAhw"
      },
      "source": [
        "#### Generating images for the Training set"
      ]
    },
    {
      "cell_type": "code",
      "execution_count": null,
      "metadata": {
        "id": "WuC7dcnZZAhw"
      },
      "outputs": [],
      "source": [
        "train_datagen = ImageDataGenerator(rescale = 1./255,\n",
        "                                   shear_range = 0.2,\n",
        "                                   zoom_range = 0.2,\n",
        "                                   horizontal_flip = True)"
      ]
    },
    {
      "cell_type": "markdown",
      "metadata": {
        "id": "5Dl3JPC3ZAhx"
      },
      "source": [
        "#### Generating images for the Test set"
      ]
    },
    {
      "cell_type": "code",
      "execution_count": null,
      "metadata": {
        "id": "Rk29ihIzZAhx"
      },
      "outputs": [],
      "source": [
        "test_datagen = ImageDataGenerator(rescale = 1./255)"
      ]
    },
    {
      "cell_type": "markdown",
      "metadata": {
        "id": "ZiCVEFISZAhy"
      },
      "source": [
        "### Creating the Training set"
      ]
    },
    {
      "cell_type": "code",
      "execution_count": null,
      "metadata": {
        "id": "bESdfSgwZAhy",
        "outputId": "fe4a6d8e-d0c9-476f-86ab-6746d4be3993"
      },
      "outputs": [
        {
          "name": "stdout",
          "output_type": "stream",
          "text": [
            "Found 12845 images belonging to 27 classes.\n"
          ]
        }
      ],
      "source": [
        "training_set = train_datagen.flow_from_directory('S:/Projects/Sign Language To Text Conversion/dataSet/trainingData',\n",
        "                                                 target_size = (128, 128),\n",
        "                                                 batch_size = 10,\n",
        "                                                 color_mode = 'grayscale',\n",
        "                                                 class_mode = 'categorical')"
      ]
    },
    {
      "cell_type": "code",
      "execution_count": null,
      "metadata": {
        "id": "z4nMY5SHZAhy",
        "outputId": "2a1fe0e5-bbeb-4a27-8908-b7e5c0f35119"
      },
      "outputs": [
        {
          "name": "stdout",
          "output_type": "stream",
          "text": [
            "Found 4268 images belonging to 27 classes.\n"
          ]
        }
      ],
      "source": [
        "test_set = test_datagen.flow_from_directory('S:/Projects/Sign Language To Text Conversion/dataSet/testingData',\n",
        "                                            target_size = (128, 128),\n",
        "                                            batch_size = 10,\n",
        "                                            color_mode = 'grayscale',\n",
        "                                            class_mode = 'categorical')"
      ]
    },
    {
      "cell_type": "markdown",
      "metadata": {
        "id": "WmsEsuy5ZAhz"
      },
      "source": [
        "### Part 2 - Building the CNN"
      ]
    },
    {
      "cell_type": "markdown",
      "metadata": {
        "id": "Q9ArQfJqZAhz"
      },
      "source": [
        "#### Initializing the CNN"
      ]
    },
    {
      "cell_type": "code",
      "execution_count": null,
      "metadata": {
        "id": "uU76hJLYZAhz"
      },
      "outputs": [],
      "source": [
        "classifier = tf.keras.models.Sequential()"
      ]
    },
    {
      "cell_type": "markdown",
      "metadata": {
        "id": "38KH29hwZAh0"
      },
      "source": [
        "#### Step 1 - Convolution"
      ]
    },
    {
      "cell_type": "code",
      "execution_count": null,
      "metadata": {
        "id": "Hn9pQAe0ZAh0"
      },
      "outputs": [],
      "source": [
        "classifier.add(tf.keras.layers.Conv2D(filters=32,\n",
        "                                     kernel_size=3,\n",
        "                                     padding=\"same\",\n",
        "                                     activation=\"relu\",\n",
        "                                     input_shape=[128, 128, 1]))"
      ]
    },
    {
      "cell_type": "markdown",
      "metadata": {
        "id": "cS5Xc1BIZAh0"
      },
      "source": [
        "#### Step 2 - Pooling"
      ]
    },
    {
      "cell_type": "code",
      "execution_count": null,
      "metadata": {
        "id": "wAgiXOLuZAh0"
      },
      "outputs": [],
      "source": [
        "classifier.add(tf.keras.layers.MaxPool2D(pool_size=2,\n",
        "                                         strides=2,\n",
        "                                         padding='valid'))"
      ]
    },
    {
      "cell_type": "markdown",
      "metadata": {
        "id": "-2PgTTdQZAh0"
      },
      "source": [
        "#### Adding a second convolutional layer"
      ]
    },
    {
      "cell_type": "code",
      "execution_count": null,
      "metadata": {
        "id": "EXb7TWPvZAh0"
      },
      "outputs": [],
      "source": [
        "classifier.add(tf.keras.layers.Conv2D(filters=32,\n",
        "                                      kernel_size=3,\n",
        "                                      padding=\"same\",\n",
        "                                      activation=\"relu\"))\n",
        "\n",
        "classifier.add(tf.keras.layers.MaxPool2D(pool_size=2,\n",
        "                                         strides=2,\n",
        "                                         padding='valid'))"
      ]
    },
    {
      "cell_type": "markdown",
      "metadata": {
        "id": "U2zbx2X_ZAh0"
      },
      "source": [
        "#### Step 3 - Flattening"
      ]
    },
    {
      "cell_type": "code",
      "execution_count": null,
      "metadata": {
        "id": "w-MPtoGFZAh1"
      },
      "outputs": [],
      "source": [
        "classifier.add(tf.keras.layers.Flatten())"
      ]
    },
    {
      "cell_type": "markdown",
      "metadata": {
        "id": "sO1HZLGVZAh1"
      },
      "source": [
        "#### Step 4 - Full Connection"
      ]
    },
    {
      "cell_type": "code",
      "execution_count": null,
      "metadata": {
        "id": "L21bFotwZAh1"
      },
      "outputs": [],
      "source": [
        "classifier.add(tf.keras.layers.Dense(units=128,\n",
        "                                     activation='relu'))\n",
        "classifier.add(tf.keras.layers.Dropout(0.40))\n",
        "classifier.add(tf.keras.layers.Dense(units=96, activation='relu'))\n",
        "classifier.add(tf.keras.layers.Dropout(0.40))\n",
        "classifier.add(tf.keras.layers.Dense(units=64, activation='relu'))\n",
        "classifier.add(tf.keras.layers.Dense(units=27, activation='softmax')) # softmax for more than 2"
      ]
    },
    {
      "cell_type": "markdown",
      "metadata": {
        "id": "a8wcMQPCZAh1"
      },
      "source": [
        "### Part 3 - Training the CNN"
      ]
    },
    {
      "cell_type": "markdown",
      "metadata": {
        "id": "NN1q_SwQZAh1"
      },
      "source": [
        "#### Compiling the CNN"
      ]
    },
    {
      "cell_type": "code",
      "execution_count": null,
      "metadata": {
        "id": "0dkKawSSZAh1"
      },
      "outputs": [],
      "source": [
        "classifier.compile(optimizer = 'adam',\n",
        "                   loss = 'categorical_crossentropy',\n",
        "                   metrics = ['accuracy'])"
      ]
    },
    {
      "cell_type": "markdown",
      "metadata": {
        "id": "N3aClTbQZAh1"
      },
      "source": [
        "#### Training the CNN on the Training set and evaluating it on the Test set"
      ]
    },
    {
      "cell_type": "code",
      "execution_count": null,
      "metadata": {
        "id": "K2OOc-99ZAh2",
        "outputId": "719c4329-10ef-4ada-9c92-3de95ac5462b"
      },
      "outputs": [
        {
          "name": "stdout",
          "output_type": "stream",
          "text": [
            "Model: \"sequential\"\n",
            "_________________________________________________________________\n",
            "Layer (type)                 Output Shape              Param #   \n",
            "=================================================================\n",
            "conv2d (Conv2D)              (None, 128, 128, 32)      320       \n",
            "_________________________________________________________________\n",
            "max_pooling2d (MaxPooling2D) (None, 64, 64, 32)        0         \n",
            "_________________________________________________________________\n",
            "conv2d_1 (Conv2D)            (None, 64, 64, 32)        9248      \n",
            "_________________________________________________________________\n",
            "max_pooling2d_1 (MaxPooling2 (None, 32, 32, 32)        0         \n",
            "_________________________________________________________________\n",
            "flatten (Flatten)            (None, 32768)             0         \n",
            "_________________________________________________________________\n",
            "dense (Dense)                (None, 128)               4194432   \n",
            "_________________________________________________________________\n",
            "dense_1 (Dense)              (None, 128)               16512     \n",
            "_________________________________________________________________\n",
            "dropout (Dropout)            (None, 128)               0         \n",
            "_________________________________________________________________\n",
            "dense_2 (Dense)              (None, 96)                12384     \n",
            "_________________________________________________________________\n",
            "dropout_1 (Dropout)          (None, 96)                0         \n",
            "_________________________________________________________________\n",
            "dense_3 (Dense)              (None, 64)                6208      \n",
            "_________________________________________________________________\n",
            "dense_4 (Dense)              (None, 27)                1755      \n",
            "=================================================================\n",
            "Total params: 4,240,859\n",
            "Trainable params: 4,240,859\n",
            "Non-trainable params: 0\n",
            "_________________________________________________________________\n"
          ]
        }
      ],
      "source": [
        "classifier.summary()"
      ]
    },
    {
      "cell_type": "code",
      "execution_count": null,
      "metadata": {
        "id": "sdw3mtXCZAh2",
        "outputId": "852047be-b682-4e26-b3ab-649df672e4c5"
      },
      "outputs": [
        {
          "name": "stdout",
          "output_type": "stream",
          "text": [
            "Epoch 1/5\n",
            "1285/1285 [==============================] - 190s 148ms/step - loss: 0.0691 - accuracy: 0.9811 - val_loss: 0.0046 - val_accuracy: 0.9986\n",
            "Epoch 2/5\n",
            "1285/1285 [==============================] - 167s 130ms/step - loss: 0.0539 - accuracy: 0.9853 - val_loss: 0.0069 - val_accuracy: 0.9977\n",
            "Epoch 3/5\n",
            "1285/1285 [==============================] - 164s 128ms/step - loss: 0.0433 - accuracy: 0.9889 - val_loss: 0.0207 - val_accuracy: 0.9946\n",
            "Epoch 4/5\n",
            "1285/1285 [==============================] - 164s 127ms/step - loss: 0.0503 - accuracy: 0.9863 - val_loss: 0.0059 - val_accuracy: 0.9988\n",
            "Epoch 5/5\n",
            "1285/1285 [==============================] - 168s 131ms/step - loss: 0.0370 - accuracy: 0.9900 - val_loss: 0.0018 - val_accuracy: 0.9993\n"
          ]
        },
        {
          "data": {
            "text/plain": [
              "<tensorflow.python.keras.callbacks.History at 0x21004d31730>"
            ]
          },
          "execution_count": 25,
          "metadata": {},
          "output_type": "execute_result"
        }
      ],
      "source": [
        "classifier.fit(training_set,\n",
        "                  epochs = 5,\n",
        "                  validation_data = test_set)"
      ]
    },
    {
      "cell_type": "markdown",
      "metadata": {
        "id": "dHMTiWnXZAh2"
      },
      "source": [
        "#### Saving the Model"
      ]
    },
    {
      "cell_type": "code",
      "execution_count": null,
      "metadata": {
        "id": "R60mpoK3ZAh2",
        "outputId": "d4035110-0d2f-402c-ff1e-b999cc0ee325"
      },
      "outputs": [
        {
          "name": "stdout",
          "output_type": "stream",
          "text": [
            "Model Saved\n",
            "Weights saved\n"
          ]
        }
      ],
      "source": [
        "model_json = classifier.to_json()\n",
        "with open(\"model_new.json\", \"w\") as json_file:\n",
        "    json_file.write(model_json)\n",
        "print('Model Saved')\n",
        "classifier.save_weights('model_new.h5')\n",
        "print('Weights saved')"
      ]
    },
    {
      "cell_type": "code",
      "execution_count": null,
      "metadata": {
        "id": "eJYttcHPZAh2"
      },
      "outputs": [],
      "source": []
    }
  ],
  "metadata": {
    "kernelspec": {
      "display_name": "Python 3",
      "language": "python",
      "name": "python3"
    },
    "language_info": {
      "codemirror_mode": {
        "name": "ipython",
        "version": 3
      },
      "file_extension": ".py",
      "mimetype": "text/x-python",
      "name": "python",
      "nbconvert_exporter": "python",
      "pygments_lexer": "ipython3",
      "version": "3.8.6rc1"
    },
    "colab": {
      "provenance": []
    }
  },
  "nbformat": 4,
  "nbformat_minor": 0
}